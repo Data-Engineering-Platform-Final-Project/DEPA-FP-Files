{
 "cells": [
  {
   "cell_type": "code",
   "execution_count": 58,
   "metadata": {},
   "outputs": [],
   "source": [
    "import csv\n",
    "import requests\n",
    "from bs4 import BeautifulSoup\n",
    "from IPython.display import HTML\n",
    "import pandas as pd"
   ]
  },
  {
   "cell_type": "code",
   "execution_count": 59,
   "metadata": {},
   "outputs": [],
   "source": [
    "# Scraping table data from following site\n",
    "url = 'https://www.espn.com/nba/team/schedule/_/name/chi/season/2019'\n",
    "headers = {'User-Agent': \"Chrome/54.0.2840.90\"}\n",
    "response = requests.get(url, headers=headers)\n",
    "html = response.content "
   ]
  },
  {
   "cell_type": "code",
   "execution_count": 60,
   "metadata": {},
   "outputs": [
    {
     "data": {
      "text/html": [
       "<iframe src=https://www.espn.com/nba/team/schedule/_/name/chi/season/2019 width=900 height=350></iframe>"
      ],
      "text/plain": [
       "<IPython.core.display.HTML object>"
      ]
     },
     "execution_count": 60,
     "metadata": {},
     "output_type": "execute_result"
    }
   ],
   "source": [
    "HTML('<iframe src=https://www.espn.com/nba/team/schedule/_/name/chi/season/2019 width=900 height=350></iframe>')"
   ]
  },
  {
   "cell_type": "code",
   "execution_count": 66,
   "metadata": {},
   "outputs": [],
   "source": [
    "soup= BeautifulSoup(response.text, \"lxml\")\n",
    "table = soup.find('table', attrs={'cellpadding':'0', 'cellspacing':'0','class':'Table'})"
   ]
  },
  {
   "cell_type": "code",
   "execution_count": 70,
   "metadata": {},
   "outputs": [
    {
     "name": "stdout",
     "output_type": "stream",
     "text": [
      "['Date', 'Opponent', 'Result', 'W-L', 'Hi Points', 'Hi Rebounds', 'Hi Assists']\n"
     ]
    }
   ],
   "source": [
    "rows = table.find_all('tr')\n",
    "columns = [c.text for c in rows[0].find_all('td')]\n",
    "print(columns)"
   ]
  },
  {
   "cell_type": "code",
   "execution_count": 68,
   "metadata": {},
   "outputs": [],
   "source": [
    "df = pd.DataFrame(columns=columns)\n",
    "\n",
    "for i in range(1,len(rows)):\n",
    "    tds = rows[i].find_all('td')\n",
    "    values = [td.text for td in tds]\n",
    "    df = df.append(pd.Series(values, index=columns), ignore_index=True)"
   ]
  },
  {
   "cell_type": "code",
   "execution_count": 69,
   "metadata": {},
   "outputs": [
    {
     "name": "stdout",
     "output_type": "stream",
     "text": [
      "           Date           Opponent         Result    W-L       Hi Points  \\\n",
      "0   Thu, Oct 18    @ Philadelphia      L127-108      0-1      LaVine  30   \n",
      "1   Sat, Oct 20        vs Detroit      L118-116      0-2      LaVine  33   \n",
      "2   Mon, Oct 22          @ Dallas      L115-109      0-3      LaVine  34   \n",
      "3   Wed, Oct 24      vs Charlotte      W112-110      1-3      LaVine  32   \n",
      "4   Fri, Oct 26       @ Charlotte      L135-106      1-4      LaVine  20   \n",
      "5   Sat, Oct 27         @ Atlanta        W97-85      2-4      LaVine  27   \n",
      "6   Mon, Oct 29   vs Golden State      L149-124      2-5      LaVine  21   \n",
      "7   Wed, Oct 31         vs Denver    L108-107 OT     2-6      LaVine  28   \n",
      "8    Fri, Nov 2        vs Indiana      L107-105      2-7    Blakeney  22   \n",
      "9    Sat, Nov 3        vs Houston        L96-88      2-8      LaVine  21   \n",
      "10   Mon, Nov 5        @ New York   W116-115 2OT     3-8      LaVine  41   \n",
      "11   Wed, Nov 7     @ New Orleans       L107-98      3-9      LaVine  22   \n",
      "12  Sat, Nov 10      vs Cleveland        W99-98      4-9      LaVine  24   \n",
      "13  Mon, Nov 12         vs Dallas       L103-98     4-10      LaVine  26   \n",
      "14  Wed, Nov 14          @ Boston       L111-82     4-11    Harrison  16   \n",
      "15  Fri, Nov 16       @ Milwaukee      L123-104     4-12      Parker  21   \n",
      "16  Sat, Nov 17        vs Toronto       L122-83     4-13    Blakeney  13   \n",
      "17  Wed, Nov 21        vs Phoenix      W124-116     5-13      LaVine  29   \n",
      "18  Fri, Nov 23          vs Miami       L103-96     5-14     Holiday  27   \n",
      "19  Sat, Nov 24       @ Minnesota       L111-96     5-15      LaVine  28   \n",
      "20  Mon, Nov 26    vs San Antonio      L108-107     5-16      LaVine  28   \n",
      "21  Wed, Nov 28       @ Milwaukee      L116-113     5-17      LaVine  24   \n",
      "22  Fri, Nov 30         @ Detroit       L107-88     5-18  Carter Jr.  28   \n",
      "23   Sat, Dec 1         @ Houston      L121-105     5-19      LaVine  29   \n",
      "24   Tue, Dec 4         @ Indiana        L96-90     5-20   Markkanen  21   \n",
      "25   Fri, Dec 7  vs Oklahoma City      W114-112     6-20      LaVine  25   \n",
      "26   Sat, Dec 8         vs Boston       L133-77     6-21    Harrison  20   \n",
      "27  Mon, Dec 10     vs Sacramento       L108-89     6-22      LaVine  19   \n",
      "28  Thu, Dec 13       vs Orlando *       L97-91     6-23      LaVine  23   \n",
      "29  Sat, Dec 15     @ San Antonio        W98-93     7-23        Dunn  24   \n",
      "30  Mon, Dec 17   @ Oklahoma City       L121-96     7-24   Markkanen  16   \n",
      "31  Wed, Dec 19       vs Brooklyn        L96-93     7-25        Dunn  24   \n",
      "32  Fri, Dec 21        vs Orlando        W90-80     8-25   Markkanen  32   \n",
      "33  Sun, Dec 23       @ Cleveland       W112-92     9-25   Markkanen  31   \n",
      "34  Wed, Dec 26      vs Minnesota       L119-94     9-26      LaVine  28   \n",
      "35  Fri, Dec 28      @ Washington       W101-92    10-26      LaVine  24   \n",
      "36  Sun, Dec 30         @ Toronto        L95-89    10-27   Markkanen  18   \n",
      "37   Wed, Jan 2        vs Orlando       L112-84    10-28      LaVine  16   \n",
      "38   Fri, Jan 4        vs Indiana    L119-116 OT   10-29      LaVine  31   \n",
      "39   Sun, Jan 6       vs Brooklyn      L117-100    10-30      LaVine  27   \n",
      "40   Wed, Jan 9        @ Portland      L124-112    10-31  Carter Jr.  22   \n",
      "41  Fri, Jan 11    @ Golden State      L146-109    10-32      LaVine  29   \n",
      "42  Sat, Jan 12            @ Utah      L110-102    10-33      LaVine  21   \n",
      "43  Tue, Jan 15     @ Los Angeles      L107-100    10-34      Parker  18   \n",
      "44  Thu, Jan 17          @ Denver      L135-105    10-35   Markkanen  27   \n",
      "45  Sat, Jan 19          vs Miami      L117-103    10-36      LaVine  22   \n",
      "46  Mon, Jan 21       @ Cleveland       W104-88    11-36      LaVine  25   \n",
      "47  Wed, Jan 23        vs Atlanta      L121-101    11-37      LaVine  23   \n",
      "48  Fri, Jan 25             vs LA      L106-101    11-38      LaVine  29   \n",
      "49  Sun, Jan 27      vs Cleveland      L104-101    11-39   Markkanen  21   \n",
      "\n",
      "       Hi Rebounds      Hi Assists  \n",
      "0       Portis  11  Arcidiacono  8  \n",
      "1       Portis  14  Arcidiacono  7  \n",
      "2    Carter Jr.  9         Dunn  7  \n",
      "3        Parker  9       LaVine  5  \n",
      "4       Felicio  7       LaVine  4  \n",
      "5       LaVine  11  Arcidiacono  7  \n",
      "6        Parker  9       Parker  5  \n",
      "7        Parker  9       LaVine  7  \n",
      "8       Felicio  9        Payne  8  \n",
      "9   Carter Jr.  13       LaVine  4  \n",
      "10  Carter Jr.  13       LaVine  4  \n",
      "11      Parker  13       LaVine  4  \n",
      "12       LaVine  8       LaVine  5  \n",
      "13  Carter Jr.  10  Arcidiacono  6  \n",
      "14       LaVine  9       LaVine  4  \n",
      "15       Parker  8      Holiday  4  \n",
      "16       Parker  6     Harrison  6  \n",
      "17      Parker  13       Parker  8  \n",
      "18     Holiday  13       LaVine  9  \n",
      "19     Holiday  11      Holiday  5  \n",
      "20      Parker  10       LaVine  7  \n",
      "21       LaVine  9       LaVine  7  \n",
      "22   Carter Jr.  7       LaVine  9  \n",
      "23      Parker  12        Payne  6  \n",
      "24  Carter Jr.  13       LaVine  9  \n",
      "25    Markkanen  7       LaVine  7  \n",
      "26      Felicio  7        Payne  3  \n",
      "27       Portis  8         Dunn  6  \n",
      "28       Portis  7       LaVine  5  \n",
      "29         Dunn  7  Arcidiacono  6  \n",
      "30   Markkanen  15         Dunn  7  \n",
      "31      Portis  11         Dunn  6  \n",
      "32     Holiday  10  Arcidiacono  8  \n",
      "33         Dunn  8  Arcidiacono  8  \n",
      "34   Carter Jr.  9         Dunn  7  \n",
      "35   Markkanen  14         Dunn  8  \n",
      "36  Carter Jr.  11         Dunn  8  \n",
      "37    Markkanen  6         Dunn  4  \n",
      "38    Markkanen  9        Dunn  17  \n",
      "39   Carter Jr.  8         Dunn  7  \n",
      "40    Hutchison  8         Dunn  7  \n",
      "41    Hutchison  6         Dunn  5  \n",
      "42   Carter Jr.  9         Dunn  8  \n",
      "43  Carter Jr.  10       LaVine  8  \n",
      "44      Portis  13       LaVine  6  \n",
      "45    Markkanen  9       LaVine  6  \n",
      "46        Lopez  9         Dunn  9  \n",
      "47       Portis  7       LaVine  4  \n",
      "48      Portis  15        Dunn  10  \n",
      "49   Markkanen  15         Dunn  7  \n"
     ]
    }
   ],
   "source": [
    "pd.options.display.max_rows  \n",
    "pd.set_option('display.max_rows', None)\n",
    "print(df[0:50])"
   ]
  },
  {
   "cell_type": "code",
   "execution_count": null,
   "metadata": {},
   "outputs": [],
   "source": [
    "\n",
    "df.to_csv(r'C:\\Users\\zd000\\Desktop\\MSCA\\Data Engineering Platforms\\01-Assigments\\Assignment1'+\n",
    "         '\\\\Output_file_Assign1_PartA_Q3_Duo_Zhou.csv', index=False)"
   ]
  }
 ],
 "metadata": {
  "kernelspec": {
   "display_name": "Python 3",
   "language": "python",
   "name": "python3"
  },
  "language_info": {
   "codemirror_mode": {
    "name": "ipython",
    "version": 3
   },
   "file_extension": ".py",
   "mimetype": "text/x-python",
   "name": "python",
   "nbconvert_exporter": "python",
   "pygments_lexer": "ipython3",
   "version": "3.7.4"
  }
 },
 "nbformat": 4,
 "nbformat_minor": 2
}
