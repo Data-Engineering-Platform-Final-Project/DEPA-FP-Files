{
 "cells": [
  {
   "cell_type": "code",
   "execution_count": 1,
   "metadata": {},
   "outputs": [],
   "source": [
    "import csv\n",
    "import requests\n",
    "from bs4 import BeautifulSoup\n",
    "from IPython.display import HTML\n",
    "import pandas as pd"
   ]
  },
  {
   "cell_type": "code",
   "execution_count": 63,
   "metadata": {},
   "outputs": [],
   "source": [
    "# Scraping table data from following site\n",
    "url = 'https://en.wikipedia.org/wiki/List_of_U.S._states_and_territories_by_income'\n",
    "headers = {'User-Agent': \"Chrome/54.0.2840.90\"}\n",
    "response = requests.get(url, headers=headers)\n",
    "html = response.content "
   ]
  },
  {
   "cell_type": "code",
   "execution_count": 64,
   "metadata": {},
   "outputs": [
    {
     "data": {
      "text/html": [
       "<iframe src=https://en.wikipedia.org/wiki/List_of_U.S._states_and_territories_by_income width=900 height=350></iframe>"
      ],
      "text/plain": [
       "<IPython.core.display.HTML object>"
      ]
     },
     "execution_count": 64,
     "metadata": {},
     "output_type": "execute_result"
    }
   ],
   "source": [
    "HTML('<iframe src=https://en.wikipedia.org/wiki/List_of_U.S._states_and_territories_by_income width=900 height=350></iframe>')"
   ]
  },
  {
   "cell_type": "code",
   "execution_count": 66,
   "metadata": {},
   "outputs": [],
   "source": [
    "Bsoup= BeautifulSoup(response.text, \"lxml\")\n",
    "table = Bsoup.find('table', attrs={'class':'wikitable sortable'})"
   ]
  },
  {
   "cell_type": "code",
   "execution_count": 67,
   "metadata": {},
   "outputs": [
    {
     "name": "stdout",
     "output_type": "stream",
     "text": [
      "['Rank', 'State or territory', '2018', '2017', '2016', '2015', '2014[note 2]']\n"
     ]
    }
   ],
   "source": [
    "rows = table.find_all('tr')\n",
    "columns = [a.text.replace('\\n','') for a in rows[0].find_all('th')]\n",
    "\n",
    "print(columns)"
   ]
  },
  {
   "cell_type": "code",
   "execution_count": 68,
   "metadata": {},
   "outputs": [],
   "source": [
    "DF = pd.DataFrame(columns=columns)\n",
    "\n",
    "for i in range(1,len(rows)):\n",
    "    tds = rows[i].find_all('td')\n",
    "    values = [td.text.replace('\\n','') for td in tds]\n",
    "    DF = DF.append(pd.Series(values, index=columns), ignore_index=True)"
   ]
  },
  {
   "cell_type": "code",
   "execution_count": 69,
   "metadata": {},
   "outputs": [
    {
     "name": "stdout",
     "output_type": "stream",
     "text": [
      "   Rank State or territory     2018     2017     2016     2015 2014[note 2]\n",
      "0     1   Washington, D.C.  $85,203  $82,372  $75,506  $75,628      $71,648\n",
      "1     2           Maryland  $83,242  $80,776  $78,945  $75,847      $73,971\n",
      "2     3         New Jersey  $81,740  $80,088  $76,126  $72,222      $71,919\n",
      "3     4             Hawaii  $80,212  $77,765  $74,511  $73,486      $69,592\n",
      "4     5      Massachusetts  $79,835  $77,385  $75,297  $70,628      $69,160\n",
      "5     6        Connecticut  $76,348  $74,168  $73,433  $71,346      $70,048\n",
      "6     7         California  $75,277  $71,805  $67,739  $64,500      $61,933\n",
      "7     8      New Hampshire  $74,991  $73,381  $70,936  $70,303      $66,532\n",
      "8     9             Alaska  $74,346  $73,181  $76,440  $73,355      $71,583\n",
      "9    10         Washington  $74,073  $70,979  $67,106  $64,129      $61,366\n",
      "10   11           Virginia  $72,577  $71,535  $68,114  $66,262      $64,902\n",
      "11   12           Colorado  $71,953  $69,117  $65,685  $63,909      $61,303\n",
      "12   13               Utah  $71,414  $65,358  $65,977  $62,912      $60,922\n",
      "13   14          Minnesota  $70,315  $68,388  $65,599  $63,488      $61,481\n",
      "14   15           New York  $67,844  $64,894  $62,909  $60,850      $58,878\n",
      "15   16           Illinois  $65,030  $62,992  $60,960  $59,588      $57,444\n",
      "16   17           Delaware  $64,805  $62,852  $61,757  $61,255      $59,716\n",
      "17   18       Rhode Island  $64,340  $63,870  $60,596  $58,073      $54,891\n",
      "18   19       North Dakota  $63,837  $61,843  $60,656  $60,557      $59,029\n",
      "19   20             Oregon  $63,426  $60,212  $57,532  $54,148      $51,075\n",
      "20    —      United States  $63,179  $60,336  $57,617  $55,775      $53,657\n",
      "21   21            Wyoming  $61,584  $60,434  $59,882  $60,214      $57,055\n",
      "22   22       Pennsylvania  $60,905  $59,105  $56,907  $55,702      $53,234\n",
      "23   23            Vermont  $60,782  $57,513  $57,677  $56,990      $54,166\n",
      "24   24          Wisconsin  $60,773  $59,305  $56,811  $55,638      $52,622\n",
      "25   25              Texas  $60,629  $59,206  $56,565  $55,653      $53,035\n",
      "26   26               Iowa  $59,955  $58,570  $56,247  $54,736      $53,712\n",
      "27   27           Nebraska  $59,566  $59,970  $56,927  $54,996      $52,686\n",
      "28   28            Arizona  $59,246  $56,581  $53,558  $51,492      $50,068\n",
      "29   29            Georgia  $58,756  $56,183  $53,559  $51,244      $49,321\n",
      "30   30             Nevada  $58,646  $58,003  $55,180  $52,431      $51,450\n",
      "31   31             Kansas  $58,218  $56,422  $54,935  $53,906      $52,504\n",
      "32   32           Michigan  $56,697  $54,909  $52,491  $51,084      $49,847\n",
      "33   33       South Dakota  $56,274  $56,521  $54,467  $53,017      $50,979\n",
      "34   34               Ohio  $56,111  $54,021  $52,344  $51,075      $49,308\n",
      "35   35            Indiana  $55,746  $54,181  $52,314  $50,532      $49,446\n",
      "36   36              Maine  $55,602  $55,277  $53,079  $51,494      $49,462\n",
      "37   37              Idaho  $55,583  $52,225  $51,807  $48,275      $47,861\n",
      "38   38            Florida  $55,462  $52,594  $50,860  $49,426      $47,463\n",
      "39   39            Montana  $55,328  $53,386  $50,027  $49,509      $46,328\n",
      "40   40           Missouri  $54,478  $53,578  $51,746  $50,238      $48,363\n",
      "41   41     North Carolina  $53,855  $52,752  $50,584  $47,830      $46,556\n",
      "42   42          Tennessee  $52,375  $51,340  $48,547  $47,275      $44,361\n",
      "43   43     South Carolina  $52,306  $50,570  $49,501  $47,238      $45,238\n",
      "44   44           Oklahoma  $51,924  $50,051  $49,176  $48,568      $47,529\n",
      "45   45           Kentucky  $50,247  $48,375  $46,659  $45,215      $42,958\n",
      "46   46            Alabama  $49,861  $48,123  $46,257  $44,765      $42,830\n",
      "47   47               Guam        —        —        —        —   $48,274[3]\n",
      "48   48          Louisiana  $47,905  $46,145  $45,146  $45,727      $44,555\n",
      "49   49         New Mexico  $47,169  $46,744  $46,748  $45,382      $44,803\n"
     ]
    }
   ],
   "source": [
    "pd.options.display.max_rows  \n",
    "pd.set_option('display.max_rows', None)\n",
    "print(DF[0:50])"
   ]
  },
  {
   "cell_type": "code",
   "execution_count": null,
   "metadata": {},
   "outputs": [],
   "source": [
    "df.to_csv(r'C:\\Users\\zd000\\Desktop\\MSCA\\Data Engineering Platforms\\01-Assigments\\Assignment1'+\n",
    "         '\\\\Output_file_Assign1_PartA_Q3_Duo_Zhou.csv', index=False)"
   ]
  }
 ],
 "metadata": {
  "kernelspec": {
   "display_name": "Python 3",
   "language": "python",
   "name": "python3"
  },
  "language_info": {
   "codemirror_mode": {
    "name": "ipython",
    "version": 3
   },
   "file_extension": ".py",
   "mimetype": "text/x-python",
   "name": "python",
   "nbconvert_exporter": "python",
   "pygments_lexer": "ipython3",
   "version": "3.7.4"
  }
 },
 "nbformat": 4,
 "nbformat_minor": 2
}
